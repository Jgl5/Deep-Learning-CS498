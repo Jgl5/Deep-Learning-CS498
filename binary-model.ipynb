{
 "cells": [
  {
   "cell_type": "code",
   "execution_count": 1,
   "id": "f03a65e2",
   "metadata": {
    "_cell_guid": "b1076dfc-b9ad-4769-8c92-a6c4dae69d19",
    "_uuid": "8f2839f25d086af736a60e9eeb907d3b93b6e0e5",
    "execution": {
     "iopub.execute_input": "2021-12-07T16:23:08.861877Z",
     "iopub.status.busy": "2021-12-07T16:23:08.861254Z",
     "iopub.status.idle": "2021-12-07T16:23:16.515923Z",
     "shell.execute_reply": "2021-12-07T16:23:16.515123Z",
     "shell.execute_reply.started": "2021-12-07T16:04:05.857389Z"
    },
    "papermill": {
     "duration": 7.676359,
     "end_time": "2021-12-07T16:23:16.516106",
     "exception": false,
     "start_time": "2021-12-07T16:23:08.839747",
     "status": "completed"
    },
    "tags": []
   },
   "outputs": [],
   "source": [
    "import numpy as np \n",
    "import pandas as pd\n",
    "import tensorflow as tf\n",
    "from keras.utils.np_utils import to_categorical\n",
    "from keras.models import Sequential\n",
    "from keras.layers import Dense, Dropout, Activation\n",
    "from sklearn.preprocessing import LabelEncoder, OneHotEncoder\n",
    "\n",
    "\n",
    "train_df = pd.read_csv('/kaggle/input/av-healthcare-analytics-ii/healthcare/train_data.csv')\n",
    "test_df = pd.read_csv('/kaggle/input/av-healthcare-analytics-ii/healthcare/test_data.csv')\n",
    "\n",
    "# drop features that have no use for the task\n",
    "train_df = train_df.drop(['case_id'], axis=1)\n",
    "train_df = train_df.drop(['Admission_Deposit'], axis=1)\n",
    "test_df = test_df.drop(['case_id'], axis=1)\n",
    "test_df = test_df.drop(['Admission_Deposit'], axis=1)\n",
    "\n",
    "# remove null values\n",
    "train_df = train_df.dropna()\n",
    "test_df = test_df.dropna()\n",
    "\n",
    "# folds in repeated patient ids instances  into N number of visits \n",
    "train_df['Visits'] = train_df.groupby(['patientid'])['patientid'].transform('count')\n",
    "train_df = train_df.drop(['patientid'], axis=1) \n",
    "test_df['Visits'] = test_df.groupby(['patientid'])['patientid'].transform('count')\n",
    "test_df.drop(['patientid'], axis=1, inplace = True)\n",
    "test_df = test_df.reset_index(drop = True)\n",
    "\n",
    "\n",
    "# create a larger dataset to work with\n",
    "# train_df['Dataset_source'] = 'train'\n",
    "# test_df['Dataset_source'] = 'test'\n",
    "# combined_df = pd.concat([train_df, test_df])"
   ]
  },
  {
   "cell_type": "code",
   "execution_count": 2,
   "id": "ce5f6109",
   "metadata": {
    "execution": {
     "iopub.execute_input": "2021-12-07T16:23:16.549987Z",
     "iopub.status.busy": "2021-12-07T16:23:16.549250Z",
     "iopub.status.idle": "2021-12-07T16:23:17.680206Z",
     "shell.execute_reply": "2021-12-07T16:23:17.679607Z",
     "shell.execute_reply.started": "2021-12-07T16:04:07.381467Z"
    },
    "papermill": {
     "duration": 1.15283,
     "end_time": "2021-12-07T16:23:17.680354",
     "exception": false,
     "start_time": "2021-12-07T16:23:16.527524",
     "status": "completed"
    },
    "tags": []
   },
   "outputs": [],
   "source": [
    "def normalize_column(dataframe, column, threshold):\n",
    "\n",
    "    normalized_values = dataframe[column].value_counts(normalize= True)\n",
    "    values_below_threshold = normalized_values.where(normalized_values < threshold).dropna().index.values\n",
    "    dataframe[column] = np.where(dataframe[column].isin(values_below_threshold), '0', dataframe[column])\n",
    "    dataframe.reset_index(drop = True)\n",
    "    \n",
    "\n",
    "normalize_column(train_df, 'Hospital_code', 0.05)\n",
    "normalize_column(train_df, 'City_Code_Patient', 0.05)\n",
    "\n",
    "# prepare columns to ease the encoding of categorical values\n",
    "target=['Hospital_code', 'City_Code_Hospital',\n",
    "        'City_Code_Patient', 'Severity of Illness',\n",
    "        'Hospital_type_code', 'Hospital_region_code',\n",
    "        'Department', 'Type of Admission', 'Stay',\n",
    "        'Ward_Facility_Code',  'Ward_Type', 'Age', 'Bed Grade'] \n",
    "train_df[target] = train_df[target].astype('category')"
   ]
  },
  {
   "cell_type": "markdown",
   "id": "fbc0e741",
   "metadata": {
    "papermill": {
     "duration": 0.008585,
     "end_time": "2021-12-07T16:23:17.697903",
     "exception": false,
     "start_time": "2021-12-07T16:23:17.689318",
     "status": "completed"
    },
    "tags": []
   },
   "source": [
    "# Encoding"
   ]
  },
  {
   "cell_type": "code",
   "execution_count": 3,
   "id": "870be2f8",
   "metadata": {
    "execution": {
     "iopub.execute_input": "2021-12-07T16:23:17.723611Z",
     "iopub.status.busy": "2021-12-07T16:23:17.722928Z",
     "iopub.status.idle": "2021-12-07T16:23:18.428533Z",
     "shell.execute_reply": "2021-12-07T16:23:18.427927Z",
     "shell.execute_reply.started": "2021-12-07T16:04:08.678425Z"
    },
    "papermill": {
     "duration": 0.722021,
     "end_time": "2021-12-07T16:23:18.428675",
     "exception": false,
     "start_time": "2021-12-07T16:23:17.706654",
     "status": "completed"
    },
    "tags": []
   },
   "outputs": [],
   "source": [
    "def integer_encode_columns(dataframe, column_list):\n",
    "    encoder = LabelEncoder()\n",
    "    df = dataframe.copy()\n",
    "    for column in column_list:\n",
    "        col_name = column + '_lbl'\n",
    "        df[col_name] = encoder.fit_transform(df[column])\n",
    "    \n",
    "    df = df.drop(column_list, axis = 1)\n",
    "    df = df.reset_index(drop = True)\n",
    "    return df\n",
    "\n",
    "\n",
    "encode_targets = ['Hospital_code','Hospital_type_code','City_Code_Hospital', \n",
    "                  'Hospital_region_code','Department','Ward_Type','Ward_Facility_Code',\n",
    "                  'City_Code_Patient', 'City_Code_Hospital', 'Type of Admission', \n",
    "                  'Severity of Illness', 'Age', 'Stay', 'Bed Grade']\n",
    "encoded_df = integer_encode_columns(train_df, encode_targets)\n",
    "\n",
    "# note-toself: in future, use for-loop or something fancier\n",
    "encoded_df.rename(columns = {'Hospital_code_lbl':'Hospital_code', \n",
    "                             'Hospital_type_code_lbl':'Hospital_type_code',\n",
    "                             'City_Code_Hospital_lbl':'City_Code_Hospital',\n",
    "                            'Hospital_region_code_lbl':'Hospital_region_code',\n",
    "                            'Department_lbl': 'Department',\n",
    "                             'Ward_Type_lbl': 'Ward_Type',\n",
    "                            'Ward_Facility_Code_lbl': 'Ward_Facility_Code', \n",
    "                            'City_Code_Patient_lbl': 'City_Code_Patient',\n",
    "                            'City_Code_Hospital_lbl': 'City_Code_Hospital',\n",
    "                            'Type of Admission_lbl': 'Admission_Type',\n",
    "                            'Severity of Illness_lbl': 'Illness_Severity',\n",
    "                            'Age_lbl': 'Age', 'Stay_lbl': 'Stay', \n",
    "                            'Bed Grade_lbl': 'Bed_Grade'}, inplace = True)"
   ]
  },
  {
   "cell_type": "code",
   "execution_count": 4,
   "id": "381e0919",
   "metadata": {
    "execution": {
     "iopub.execute_input": "2021-12-07T16:23:18.452909Z",
     "iopub.status.busy": "2021-12-07T16:23:18.452293Z",
     "iopub.status.idle": "2021-12-07T16:23:18.494690Z",
     "shell.execute_reply": "2021-12-07T16:23:18.494128Z",
     "shell.execute_reply.started": "2021-12-07T16:04:09.940336Z"
    },
    "papermill": {
     "duration": 0.056929,
     "end_time": "2021-12-07T16:23:18.494857",
     "exception": false,
     "start_time": "2021-12-07T16:23:18.437928",
     "status": "completed"
    },
    "tags": []
   },
   "outputs": [],
   "source": [
    "def binary_encode_column(dataframe, column, inplace = True):\n",
    "    if inplace:\n",
    "        dataframe.loc[dataframe[column]!= 0] = 1\n",
    "        dataframe = dataframe.reset_index(drop = True)\n",
    "        return\n",
    "    else:\n",
    "        df = dataframe.copy()\n",
    "        df.loc[df[column]!= 0]= 1\n",
    "        df = df.reset_index(drop = True)\n",
    "        return df\n",
    "    \n",
    "binary_encode_column(encoded_df, 'Stay') "
   ]
  },
  {
   "cell_type": "markdown",
   "id": "f11c56e4",
   "metadata": {
    "papermill": {
     "duration": 0.008639,
     "end_time": "2021-12-07T16:23:18.512653",
     "exception": false,
     "start_time": "2021-12-07T16:23:18.504014",
     "status": "completed"
    },
    "tags": []
   },
   "source": [
    "# Training"
   ]
  },
  {
   "cell_type": "code",
   "execution_count": 5,
   "id": "5b290628",
   "metadata": {
    "execution": {
     "iopub.execute_input": "2021-12-07T16:23:18.535605Z",
     "iopub.status.busy": "2021-12-07T16:23:18.534994Z",
     "iopub.status.idle": "2021-12-07T16:23:18.538462Z",
     "shell.execute_reply": "2021-12-07T16:23:18.537902Z",
     "shell.execute_reply.started": "2021-12-07T16:04:09.979553Z"
    },
    "papermill": {
     "duration": 0.016929,
     "end_time": "2021-12-07T16:23:18.538591",
     "exception": false,
     "start_time": "2021-12-07T16:23:18.521662",
     "status": "completed"
    },
    "tags": []
   },
   "outputs": [],
   "source": [
    "target = encoded_df.pop('Stay')"
   ]
  },
  {
   "cell_type": "code",
   "execution_count": 6,
   "id": "543c8755",
   "metadata": {
    "execution": {
     "iopub.execute_input": "2021-12-07T16:23:18.562553Z",
     "iopub.status.busy": "2021-12-07T16:23:18.561914Z",
     "iopub.status.idle": "2021-12-07T16:23:24.123816Z",
     "shell.execute_reply": "2021-12-07T16:23:24.124378Z",
     "shell.execute_reply.started": "2021-12-07T16:04:09.986675Z"
    },
    "papermill": {
     "duration": 5.577012,
     "end_time": "2021-12-07T16:23:24.124577",
     "exception": false,
     "start_time": "2021-12-07T16:23:18.547565",
     "status": "completed"
    },
    "tags": []
   },
   "outputs": [
    {
     "name": "stderr",
     "output_type": "stream",
     "text": [
      "\n",
      "User settings:\n",
      "\n",
      "   KMP_AFFINITY=granularity=fine,verbose,compact,1,0\n",
      "   KMP_BLOCKTIME=0\n",
      "   KMP_DUPLICATE_LIB_OK=True\n",
      "   KMP_INIT_AT_FORK=FALSE\n",
      "   KMP_SETTINGS=1\n",
      "   KMP_WARNINGS=0\n",
      "\n",
      "Effective settings:\n",
      "\n",
      "   KMP_ABORT_DELAY=0\n",
      "   KMP_ADAPTIVE_LOCK_PROPS='1,1024'\n",
      "   KMP_ALIGN_ALLOC=64\n",
      "   KMP_ALL_THREADPRIVATE=128\n",
      "   KMP_ATOMIC_MODE=2\n",
      "   KMP_BLOCKTIME=0\n",
      "   KMP_CPUINFO_FILE: value is not defined\n",
      "   KMP_DETERMINISTIC_REDUCTION=false\n",
      "   KMP_DEVICE_THREAD_LIMIT=2147483647\n",
      "   KMP_DISP_NUM_BUFFERS=7\n",
      "   KMP_DUPLICATE_LIB_OK=true\n",
      "   KMP_ENABLE_TASK_THROTTLING=true\n",
      "   KMP_FORCE_REDUCTION: value is not defined\n",
      "   KMP_FOREIGN_THREADS_THREADPRIVATE=true\n",
      "   KMP_FORKJOIN_BARRIER='2,2'\n",
      "   KMP_FORKJOIN_BARRIER_PATTERN='hyper,hyper'\n",
      "   KMP_GTID_MODE=3\n",
      "   KMP_HANDLE_SIGNALS=false\n",
      "   KMP_HOT_TEAMS_MAX_LEVEL=1\n",
      "   KMP_HOT_TEAMS_MODE=0\n",
      "   KMP_INIT_AT_FORK=true\n",
      "   KMP_LIBRARY=throughput\n",
      "   KMP_LOCK_KIND=queuing\n",
      "   KMP_MALLOC_POOL_INCR=1M\n",
      "   KMP_NUM_LOCKS_IN_BLOCK=1\n",
      "   KMP_PLAIN_BARRIER='2,2'\n",
      "   KMP_PLAIN_BARRIER_PATTERN='hyper,hyper'\n",
      "   KMP_REDUCTION_BARRIER='1,1'\n",
      "   KMP_REDUCTION_BARRIER_PATTERN='hyper,hyper'\n",
      "   KMP_SCHEDULE='static,balanced;guided,iterative'\n",
      "   KMP_SETTINGS=true\n",
      "   KMP_SPIN_BACKOFF_PARAMS='4096,100'\n",
      "   KMP_STACKOFFSET=64\n",
      "   KMP_STACKPAD=0\n",
      "   KMP_STACKSIZE=8M\n",
      "   KMP_STORAGE_MAP=false\n",
      "   KMP_TASKING=2\n",
      "   KMP_TASKLOOP_MIN_TASKS=0\n",
      "   KMP_TASK_STEALING_CONSTRAINT=1\n",
      "   KMP_TEAMS_THREAD_LIMIT=4\n",
      "   KMP_TOPOLOGY_METHOD=all\n",
      "   KMP_USE_YIELD=1\n",
      "   KMP_VERSION=false\n",
      "   KMP_WARNINGS=false\n",
      "   OMP_AFFINITY_FORMAT='OMP: pid %P tid %i thread %n bound to OS proc set {%A}'\n",
      "   OMP_ALLOCATOR=omp_default_mem_alloc\n",
      "   OMP_CANCELLATION=false\n",
      "   OMP_DEFAULT_DEVICE=0\n",
      "   OMP_DISPLAY_AFFINITY=false\n",
      "   OMP_DISPLAY_ENV=false\n",
      "   OMP_DYNAMIC=false\n",
      "   OMP_MAX_ACTIVE_LEVELS=1\n",
      "   OMP_MAX_TASK_PRIORITY=0\n",
      "   OMP_NESTED: deprecated; max-active-levels-var=1\n",
      "   OMP_NUM_THREADS: value is not defined\n",
      "   OMP_PLACES: value is not defined\n",
      "   OMP_PROC_BIND='intel'\n",
      "   OMP_SCHEDULE='static'\n",
      "   OMP_STACKSIZE=8M\n",
      "   OMP_TARGET_OFFLOAD=DEFAULT\n",
      "   OMP_THREAD_LIMIT=2147483647\n",
      "   OMP_WAIT_POLICY=PASSIVE\n",
      "   KMP_AFFINITY='verbose,warnings,respect,granularity=fine,compact,1,0'\n",
      "\n",
      "2021-12-07 16:23:18.607192: I tensorflow/core/common_runtime/process_util.cc:146] Creating new thread pool with default inter op setting: 2. Tune using inter_op_parallelism_threads for best performance.\n",
      "2021-12-07 16:23:19.193647: I tensorflow/compiler/mlir/mlir_graph_optimization_pass.cc:185] None of the MLIR Optimization Passes are enabled (registered 2)\n"
     ]
    },
    {
     "data": {
      "text/plain": [
       "<tf.Tensor: shape=(313793, 15), dtype=float32, numpy=\n",
       "array([[ 2.7054884 ,  1.8982663 ,  8.850588  , ..., -4.662241  ,\n",
       "         4.135621  , -0.1507379 ],\n",
       "       [-0.24824435, -0.24902238, -0.22416845, ..., -0.12707493,\n",
       "        -0.23466481, -0.1507379 ],\n",
       "       [-0.24824435, -0.24902238, -0.22416845, ..., -0.12707493,\n",
       "        -0.23466481, -0.1507379 ],\n",
       "       ...,\n",
       "       [-0.24824435, -0.24902238, -0.22416845, ..., -0.12707493,\n",
       "        -0.23466481, -0.1507379 ],\n",
       "       [-0.24824435, -0.24902238, -0.22416845, ..., -0.12707493,\n",
       "        -0.23466481, -0.1507379 ],\n",
       "       [ 5.6592216 ,  1.8982663 , -0.22416845, ..., -0.12707493,\n",
       "        -0.23466481, -0.1507379 ]], dtype=float32)>"
      ]
     },
     "execution_count": 6,
     "metadata": {},
     "output_type": "execute_result"
    }
   ],
   "source": [
    "numeric_features = encoded_df.copy()\n",
    "tf.convert_to_tensor(numeric_features)\n",
    "# creates a normalization layer\n",
    "normalizer = tf.keras.layers.Normalization(axis=-1)\n",
    "normalizer.adapt(numeric_features)\n",
    "# normalize all rows\n",
    "normalizer(numeric_features.iloc[:])"
   ]
  },
  {
   "cell_type": "markdown",
   "id": "72117c24",
   "metadata": {
    "papermill": {
     "duration": 0.010855,
     "end_time": "2021-12-07T16:23:24.148749",
     "exception": false,
     "start_time": "2021-12-07T16:23:24.137894",
     "status": "completed"
    },
    "tags": []
   },
   "source": [
    "# Model"
   ]
  },
  {
   "cell_type": "code",
   "execution_count": 7,
   "id": "e79f13b7",
   "metadata": {
    "execution": {
     "iopub.execute_input": "2021-12-07T16:23:24.175592Z",
     "iopub.status.busy": "2021-12-07T16:23:24.174557Z",
     "iopub.status.idle": "2021-12-07T16:23:24.180615Z",
     "shell.execute_reply": "2021-12-07T16:23:24.181098Z",
     "shell.execute_reply.started": "2021-12-07T16:15:39.990474Z"
    },
    "papermill": {
     "duration": 0.021379,
     "end_time": "2021-12-07T16:23:24.181308",
     "exception": false,
     "start_time": "2021-12-07T16:23:24.159929",
     "status": "completed"
    },
    "tags": []
   },
   "outputs": [],
   "source": [
    "def get_basic_model():\n",
    "    model = tf.keras.Sequential([\n",
    "    normalizer,\n",
    "    tf.keras.layers.Dense(128, activation='relu'),\n",
    "    tf.keras.layers.Dense(128, activation='relu'),\n",
    "    tf.keras.layers.Dense(64, activation='relu'),\n",
    "    tf.keras.layers.Dense(2, activation='relu' )\n",
    "  ])\n",
    "    model.compile(loss='binary_crossentropy', optimizer='rmsprop', metrics=['accuracy'])\n",
    "    return model"
   ]
  },
  {
   "cell_type": "code",
   "execution_count": 8,
   "id": "3a99d0ae",
   "metadata": {
    "execution": {
     "iopub.execute_input": "2021-12-07T16:23:24.216085Z",
     "iopub.status.busy": "2021-12-07T16:23:24.215149Z",
     "iopub.status.idle": "2021-12-07T16:24:03.025424Z",
     "shell.execute_reply": "2021-12-07T16:24:03.025966Z",
     "shell.execute_reply.started": "2021-12-07T16:15:42.223884Z"
    },
    "papermill": {
     "duration": 38.833996,
     "end_time": "2021-12-07T16:24:03.026158",
     "exception": false,
     "start_time": "2021-12-07T16:23:24.192162",
     "status": "completed"
    },
    "tags": []
   },
   "outputs": [
    {
     "name": "stdout",
     "output_type": "stream",
     "text": [
      "Model: \"sequential\"\n",
      "_________________________________________________________________\n",
      "Layer (type)                 Output Shape              Param #   \n",
      "=================================================================\n",
      "normalization (Normalization (None, 15)                31        \n",
      "_________________________________________________________________\n",
      "dense (Dense)                (None, 128)               2048      \n",
      "_________________________________________________________________\n",
      "dense_1 (Dense)              (None, 128)               16512     \n",
      "_________________________________________________________________\n",
      "dense_2 (Dense)              (None, 64)                8256      \n",
      "_________________________________________________________________\n",
      "dense_3 (Dense)              (None, 2)                 130       \n",
      "=================================================================\n",
      "Total params: 26,977\n",
      "Trainable params: 26,946\n",
      "Non-trainable params: 31\n",
      "_________________________________________________________________\n",
      "Epoch 1/15\n",
      "628/628 [==============================] - 3s 4ms/step - loss: 0.0223 - accuracy: 0.8879\n",
      "Epoch 2/15\n",
      "628/628 [==============================] - 3s 4ms/step - loss: 0.0000e+00 - accuracy: 1.0000\n",
      "Epoch 3/15\n",
      "628/628 [==============================] - 2s 4ms/step - loss: 0.0000e+00 - accuracy: 1.0000\n",
      "Epoch 4/15\n",
      "628/628 [==============================] - 2s 4ms/step - loss: 0.0000e+00 - accuracy: 1.0000\n",
      "Epoch 5/15\n",
      "628/628 [==============================] - 3s 4ms/step - loss: 0.0000e+00 - accuracy: 1.0000\n",
      "Epoch 6/15\n",
      "628/628 [==============================] - 2s 4ms/step - loss: 0.0000e+00 - accuracy: 1.0000\n",
      "Epoch 7/15\n",
      "628/628 [==============================] - 2s 4ms/step - loss: 0.0000e+00 - accuracy: 1.0000\n",
      "Epoch 8/15\n",
      "628/628 [==============================] - 3s 5ms/step - loss: 0.0000e+00 - accuracy: 1.0000\n",
      "Epoch 9/15\n",
      "628/628 [==============================] - 2s 4ms/step - loss: 0.0000e+00 - accuracy: 1.0000\n",
      "Epoch 10/15\n",
      "628/628 [==============================] - 3s 4ms/step - loss: 0.0000e+00 - accuracy: 1.0000\n",
      "Epoch 11/15\n",
      "628/628 [==============================] - 3s 4ms/step - loss: 0.0000e+00 - accuracy: 1.0000\n",
      "Epoch 12/15\n",
      "628/628 [==============================] - 3s 4ms/step - loss: 0.0000e+00 - accuracy: 1.0000\n",
      "Epoch 13/15\n",
      "628/628 [==============================] - 2s 4ms/step - loss: 0.0000e+00 - accuracy: 1.0000\n",
      "Epoch 14/15\n",
      "628/628 [==============================] - 3s 4ms/step - loss: 0.0000e+00 - accuracy: 1.0000\n",
      "Epoch 15/15\n",
      "628/628 [==============================] - 2s 4ms/step - loss: 0.0000e+00 - accuracy: 1.0000\n"
     ]
    },
    {
     "data": {
      "text/plain": [
       "<keras.callbacks.History at 0x7f83b5e93250>"
      ]
     },
     "execution_count": 8,
     "metadata": {},
     "output_type": "execute_result"
    }
   ],
   "source": [
    "model = get_basic_model()\n",
    "model.summary()\n",
    "model.fit(numeric_features, target, epochs=15, batch_size=500)"
   ]
  },
  {
   "cell_type": "code",
   "execution_count": 9,
   "id": "695881e8",
   "metadata": {
    "execution": {
     "iopub.execute_input": "2021-12-07T16:24:03.395075Z",
     "iopub.status.busy": "2021-12-07T16:24:03.394400Z",
     "iopub.status.idle": "2021-12-07T16:24:03.413566Z",
     "shell.execute_reply": "2021-12-07T16:24:03.414060Z",
     "shell.execute_reply.started": "2021-12-07T16:19:25.280251Z"
    },
    "papermill": {
     "duration": 0.205956,
     "end_time": "2021-12-07T16:24:03.414251",
     "exception": false,
     "start_time": "2021-12-07T16:24:03.208295",
     "status": "completed"
    },
    "tags": []
   },
   "outputs": [],
   "source": [
    "from keras.models import load_model\n",
    "model.save('my_model.h5')  # creates a HDF5 file 'my_model.h5'"
   ]
  },
  {
   "cell_type": "code",
   "execution_count": 10,
   "id": "ee5fddcb",
   "metadata": {
    "execution": {
     "iopub.execute_input": "2021-12-07T16:24:03.773578Z",
     "iopub.status.busy": "2021-12-07T16:24:03.772326Z",
     "iopub.status.idle": "2021-12-07T16:24:03.775932Z",
     "shell.execute_reply": "2021-12-07T16:24:03.776443Z",
     "shell.execute_reply.started": "2021-12-07T16:04:39.566421Z"
    },
    "papermill": {
     "duration": 0.1852,
     "end_time": "2021-12-07T16:24:03.776621",
     "exception": false,
     "start_time": "2021-12-07T16:24:03.591421",
     "status": "completed"
    },
    "tags": []
   },
   "outputs": [],
   "source": [
    "# training_set, validation_set, test_set = np.split(encoded_df.sample(frac=1), [int(0.7*len(encoded_df)), int(0.85*len(encoded_df))])\n",
    "# print(f'Length of Training set is {len(training_set)}')\n",
    "# print(f'Length of Validation set is {len(validation_set)}')\n",
    "# print(f'Length of Test set is {len(test_set)}')\n",
    "# print(f'Shape of Training set is {training_set.shape}')\n",
    "# print(f'Shape of Validation set is {training_set.shape}')\n",
    "# print(f'Shape of Test set is {training_set.shape}')"
   ]
  },
  {
   "cell_type": "code",
   "execution_count": 11,
   "id": "5ee09c81",
   "metadata": {
    "execution": {
     "iopub.execute_input": "2021-12-07T16:24:04.140154Z",
     "iopub.status.busy": "2021-12-07T16:24:04.139487Z",
     "iopub.status.idle": "2021-12-07T16:24:04.142341Z",
     "shell.execute_reply": "2021-12-07T16:24:04.142763Z",
     "shell.execute_reply.started": "2021-12-07T16:04:39.572483Z"
    },
    "papermill": {
     "duration": 0.186321,
     "end_time": "2021-12-07T16:24:04.142961",
     "exception": false,
     "start_time": "2021-12-07T16:24:03.956640",
     "status": "completed"
    },
    "tags": []
   },
   "outputs": [],
   "source": [
    "# alternative model to tackle this single-label, binary classification problem\n",
    "# model = Sequential()\n",
    "# model.add(Dense(128, input_dim = training_set.shape[1] , activation = 'relu'))\n",
    "# model.add(Dense(128, activation = 'relu'))\n",
    "# model.add(Dense(128, activation = 'relu'))\n",
    "# model.add(Dense(128, activation = 'relu'))\n",
    "# model.add(Dense(2, activation = 'softmax'))\n",
    "\n",
    "# model.summary()\n",
    "# model.compile(loss='binary_crossentropy', optimizer='rmsprop', metrics=['accuracy'])\n",
    "# model.fit(training_set,validation_set,validation_split = 0.2, batch_size = 225, epochs = 5, shuffle = True, verbose = 2)"
   ]
  }
 ],
 "metadata": {
  "kernelspec": {
   "display_name": "Python 3",
   "language": "python",
   "name": "python3"
  },
  "language_info": {
   "codemirror_mode": {
    "name": "ipython",
    "version": 3
   },
   "file_extension": ".py",
   "mimetype": "text/x-python",
   "name": "python",
   "nbconvert_exporter": "python",
   "pygments_lexer": "ipython3",
   "version": "3.7.12"
  },
  "papermill": {
   "default_parameters": {},
   "duration": 67.536969,
   "end_time": "2021-12-07T16:24:07.855767",
   "environment_variables": {},
   "exception": null,
   "input_path": "__notebook__.ipynb",
   "output_path": "__notebook__.ipynb",
   "parameters": {},
   "start_time": "2021-12-07T16:23:00.318798",
   "version": "2.3.3"
  }
 },
 "nbformat": 4,
 "nbformat_minor": 5
}
